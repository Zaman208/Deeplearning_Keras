{
 "cells": [
  {
   "cell_type": "markdown",
   "metadata": {},
   "source": [
    "### Building Regression Model in Keras Assignments."
   ]
  },
  {
   "cell_type": "code",
   "execution_count": 39,
   "metadata": {},
   "outputs": [],
   "source": [
    "import pandas as pd\n",
    "import numpy as np"
   ]
  },
  {
   "cell_type": "code",
   "execution_count": 41,
   "metadata": {},
   "outputs": [],
   "source": [
    "import keras \n",
    "from keras.models import Sequential\n",
    "from keras.layers import Dense"
   ]
  },
  {
   "cell_type": "code",
   "execution_count": 42,
   "metadata": {},
   "outputs": [
    {
     "data": {
      "text/html": [
       "<div>\n",
       "<style scoped>\n",
       "    .dataframe tbody tr th:only-of-type {\n",
       "        vertical-align: middle;\n",
       "    }\n",
       "\n",
       "    .dataframe tbody tr th {\n",
       "        vertical-align: top;\n",
       "    }\n",
       "\n",
       "    .dataframe thead th {\n",
       "        text-align: right;\n",
       "    }\n",
       "</style>\n",
       "<table border=\"1\" class=\"dataframe\">\n",
       "  <thead>\n",
       "    <tr style=\"text-align: right;\">\n",
       "      <th></th>\n",
       "      <th>Cement</th>\n",
       "      <th>Blast Furnace Slag</th>\n",
       "      <th>Fly Ash</th>\n",
       "      <th>Water</th>\n",
       "      <th>Superplasticizer</th>\n",
       "      <th>Coarse Aggregate</th>\n",
       "      <th>Fine Aggregate</th>\n",
       "      <th>Age</th>\n",
       "      <th>Strength</th>\n",
       "    </tr>\n",
       "  </thead>\n",
       "  <tbody>\n",
       "    <tr>\n",
       "      <th>0</th>\n",
       "      <td>540.0</td>\n",
       "      <td>0.0</td>\n",
       "      <td>0.0</td>\n",
       "      <td>162.0</td>\n",
       "      <td>2.5</td>\n",
       "      <td>1040.0</td>\n",
       "      <td>676.0</td>\n",
       "      <td>28</td>\n",
       "      <td>79.99</td>\n",
       "    </tr>\n",
       "    <tr>\n",
       "      <th>1</th>\n",
       "      <td>540.0</td>\n",
       "      <td>0.0</td>\n",
       "      <td>0.0</td>\n",
       "      <td>162.0</td>\n",
       "      <td>2.5</td>\n",
       "      <td>1055.0</td>\n",
       "      <td>676.0</td>\n",
       "      <td>28</td>\n",
       "      <td>61.89</td>\n",
       "    </tr>\n",
       "    <tr>\n",
       "      <th>2</th>\n",
       "      <td>332.5</td>\n",
       "      <td>142.5</td>\n",
       "      <td>0.0</td>\n",
       "      <td>228.0</td>\n",
       "      <td>0.0</td>\n",
       "      <td>932.0</td>\n",
       "      <td>594.0</td>\n",
       "      <td>270</td>\n",
       "      <td>40.27</td>\n",
       "    </tr>\n",
       "    <tr>\n",
       "      <th>3</th>\n",
       "      <td>332.5</td>\n",
       "      <td>142.5</td>\n",
       "      <td>0.0</td>\n",
       "      <td>228.0</td>\n",
       "      <td>0.0</td>\n",
       "      <td>932.0</td>\n",
       "      <td>594.0</td>\n",
       "      <td>365</td>\n",
       "      <td>41.05</td>\n",
       "    </tr>\n",
       "    <tr>\n",
       "      <th>4</th>\n",
       "      <td>198.6</td>\n",
       "      <td>132.4</td>\n",
       "      <td>0.0</td>\n",
       "      <td>192.0</td>\n",
       "      <td>0.0</td>\n",
       "      <td>978.4</td>\n",
       "      <td>825.5</td>\n",
       "      <td>360</td>\n",
       "      <td>44.30</td>\n",
       "    </tr>\n",
       "  </tbody>\n",
       "</table>\n",
       "</div>"
      ],
      "text/plain": [
       "   Cement  Blast Furnace Slag  Fly Ash  Water  Superplasticizer  \\\n",
       "0   540.0                 0.0      0.0  162.0               2.5   \n",
       "1   540.0                 0.0      0.0  162.0               2.5   \n",
       "2   332.5               142.5      0.0  228.0               0.0   \n",
       "3   332.5               142.5      0.0  228.0               0.0   \n",
       "4   198.6               132.4      0.0  192.0               0.0   \n",
       "\n",
       "   Coarse Aggregate  Fine Aggregate  Age  Strength  \n",
       "0            1040.0           676.0   28     79.99  \n",
       "1            1055.0           676.0   28     61.89  \n",
       "2             932.0           594.0  270     40.27  \n",
       "3             932.0           594.0  365     41.05  \n",
       "4             978.4           825.5  360     44.30  "
      ]
     },
     "execution_count": 42,
     "metadata": {},
     "output_type": "execute_result"
    }
   ],
   "source": [
    "data1 = pd.read_csv('https://s3-api.us-geo.objectstorage.softlayer.net/cf-courses-data/CognitiveClass/DL0101EN/labs/data/concrete_data.csv')\n",
    "data1.head()"
   ]
  },
  {
   "cell_type": "code",
   "execution_count": 54,
   "metadata": {},
   "outputs": [
    {
     "data": {
      "text/plain": [
       "Cement                0\n",
       "Blast Furnace Slag    0\n",
       "Fly Ash               0\n",
       "Water                 0\n",
       "Superplasticizer      0\n",
       "Coarse Aggregate      0\n",
       "Fine Aggregate        0\n",
       "Age                   0\n",
       "Strength              0\n",
       "dtype: int64"
      ]
     },
     "execution_count": 54,
     "metadata": {},
     "output_type": "execute_result"
    }
   ],
   "source": [
    "data1.isnull().sum() # for checking if any null value is present"
   ]
  },
  {
   "cell_type": "code",
   "execution_count": 43,
   "metadata": {},
   "outputs": [],
   "source": [
    "# define regression model\n",
    "def regression_model():\n",
    "    # create model\n",
    "    model = Sequential()\n",
    "    model.add(Dense(10, activation='relu', input_shape=(n_cols,)))\n",
    "    model.add(Dense(1))\n",
    "    \n",
    "    # compile model\n",
    "    model.compile(optimizer='adam', loss='mean_squared_error')\n",
    "    return model"
   ]
  },
  {
   "cell_type": "code",
   "execution_count": 44,
   "metadata": {},
   "outputs": [],
   "source": [
    "from sklearn.model_selection import train_test_split\n",
    "X_train, X_test, y_train, y_test = train_test_split(predictors, target, test_size=0.3, random_state=42)"
   ]
  },
  {
   "cell_type": "code",
   "execution_count": 45,
   "metadata": {},
   "outputs": [
    {
     "name": "stdout",
     "output_type": "stream",
     "text": [
      "Epoch 1/50\n",
      "721/721 [==============================] - 4s 6ms/step - loss: 639379.7836\n",
      "Epoch 2/50\n",
      "721/721 [==============================] - 2s 3ms/step - loss: 484087.2865\n",
      "Epoch 3/50\n",
      "721/721 [==============================] - 2s 3ms/step - loss: 371748.5187\n",
      "Epoch 4/50\n",
      "721/721 [==============================] - 2s 3ms/step - loss: 281112.8063: 0s\n",
      "Epoch 5/50\n",
      " 64/721 [=>............................] - ETA: 2s - loss: 232322.8828"
     ]
    },
    {
     "name": "stderr",
     "output_type": "stream",
     "text": [
      "/home/jupyterlab/conda/envs/python/lib/python3.6/site-packages/keras/callbacks.py:120: UserWarning: Method on_batch_end() is slow compared to the batch update (0.100673). Check your callbacks.\n",
      "  % delta_t_median)\n"
     ]
    },
    {
     "name": "stdout",
     "output_type": "stream",
     "text": [
      "721/721 [==============================] - 3s 4ms/step - loss: 198429.1768: 0s\n",
      "Epoch 6/50\n",
      "721/721 [==============================] - 1s 2ms/step - loss: 131634.2644\n",
      "Epoch 7/50\n",
      "721/721 [==============================] - 2s 3ms/step - loss: 83025.3446\n",
      "Epoch 8/50\n",
      "721/721 [==============================] - 2s 3ms/step - loss: 49955.0095\n",
      "Epoch 9/50\n",
      "128/721 [====>.........................] - ETA: 1s - loss: 33751.5005"
     ]
    },
    {
     "name": "stderr",
     "output_type": "stream",
     "text": [
      "/home/jupyterlab/conda/envs/python/lib/python3.6/site-packages/keras/callbacks.py:120: UserWarning: Method on_batch_end() is slow compared to the batch update (0.100363). Check your callbacks.\n",
      "  % delta_t_median)\n"
     ]
    },
    {
     "name": "stdout",
     "output_type": "stream",
     "text": [
      "721/721 [==============================] - 2s 3ms/step - loss: 28990.2103\n",
      "Epoch 10/50\n",
      "721/721 [==============================] - 2s 3ms/step - loss: 16988.7687\n",
      "Epoch 11/50\n",
      "721/721 [==============================] - 2s 3ms/step - loss: 10614.2014\n",
      "Epoch 12/50\n",
      "721/721 [==============================] - 2s 2ms/step - loss: 7657.8417\n",
      "Epoch 13/50\n",
      "721/721 [==============================] - 2s 3ms/step - loss: 6363.1132\n",
      "Epoch 14/50\n",
      "721/721 [==============================] - 2s 2ms/step - loss: 5822.2117\n",
      "Epoch 15/50\n",
      "721/721 [==============================] - 2s 3ms/step - loss: 5541.8480\n",
      "Epoch 16/50\n",
      "721/721 [==============================] - 2s 3ms/step - loss: 5359.2077\n",
      "Epoch 17/50\n",
      "721/721 [==============================] - 2s 3ms/step - loss: 5209.5341\n",
      "Epoch 18/50\n",
      "721/721 [==============================] - 2s 2ms/step - loss: 5066.2925\n",
      "Epoch 19/50\n",
      "721/721 [==============================] - 2s 2ms/step - loss: 4925.3356\n",
      "Epoch 20/50\n",
      "721/721 [==============================] - 2s 3ms/step - loss: 4790.3995\n",
      "Epoch 21/50\n",
      "721/721 [==============================] - 2s 3ms/step - loss: 4652.6106\n",
      "Epoch 22/50\n",
      "721/721 [==============================] - 2s 2ms/step - loss: 4520.1243\n",
      "Epoch 23/50\n",
      "721/721 [==============================] - 2s 3ms/step - loss: 4388.8970\n",
      "Epoch 24/50\n",
      "721/721 [==============================] - 2s 2ms/step - loss: 4260.0403\n",
      "Epoch 25/50\n",
      "721/721 [==============================] - 2s 3ms/step - loss: 4135.0090\n",
      "Epoch 26/50\n",
      "721/721 [==============================] - 2s 3ms/step - loss: 4011.4107: 0s\n",
      "Epoch 27/50\n",
      "721/721 [==============================] - 2s 3ms/step - loss: 3889.1847\n",
      "Epoch 28/50\n",
      "721/721 [==============================] - 2s 3ms/step - loss: 3773.7737\n",
      "Epoch 29/50\n",
      "160/721 [=====>........................] - ETA: 1s - loss: 3607.0452"
     ]
    },
    {
     "name": "stderr",
     "output_type": "stream",
     "text": [
      "/home/jupyterlab/conda/envs/python/lib/python3.6/site-packages/keras/callbacks.py:120: UserWarning: Method on_batch_end() is slow compared to the batch update (0.134251). Check your callbacks.\n",
      "  % delta_t_median)\n"
     ]
    },
    {
     "name": "stdout",
     "output_type": "stream",
     "text": [
      "721/721 [==============================] - 2s 3ms/step - loss: 3668.1338\n",
      "Epoch 30/50\n",
      "721/721 [==============================] - 2s 2ms/step - loss: 3547.9428\n",
      "Epoch 31/50\n",
      "721/721 [==============================] - 2s 2ms/step - loss: 3439.8756\n",
      "Epoch 32/50\n",
      "721/721 [==============================] - 2s 3ms/step - loss: 3333.4964\n",
      "Epoch 33/50\n",
      "721/721 [==============================] - 2s 3ms/step - loss: 3231.0063: \n",
      "Epoch 34/50\n",
      "721/721 [==============================] - 2s 2ms/step - loss: 3130.9368\n",
      "Epoch 35/50\n",
      "721/721 [==============================] - 2s 3ms/step - loss: 3040.0094\n",
      "Epoch 36/50\n",
      "721/721 [==============================] - 2s 3ms/step - loss: 2940.2367\n",
      "Epoch 37/50\n",
      "721/721 [==============================] - 2s 2ms/step - loss: 2851.0294\n",
      "Epoch 38/50\n",
      "721/721 [==============================] - 2s 3ms/step - loss: 2761.2296: 1s - loss: 3011.13 - ETA\n",
      "Epoch 39/50\n",
      "721/721 [==============================] - 2s 3ms/step - loss: 2680.0577\n",
      "Epoch 40/50\n",
      " 96/721 [==>...........................] - ETA: 2s - loss: 3137.4015"
     ]
    },
    {
     "name": "stderr",
     "output_type": "stream",
     "text": [
      "/home/jupyterlab/conda/envs/python/lib/python3.6/site-packages/keras/callbacks.py:120: UserWarning: Method on_batch_end() is slow compared to the batch update (0.121102). Check your callbacks.\n",
      "  % delta_t_median)\n"
     ]
    },
    {
     "name": "stdout",
     "output_type": "stream",
     "text": [
      "721/721 [==============================] - 2s 3ms/step - loss: 2593.4719: 0s - loss: 2553.\n",
      "Epoch 41/50\n",
      "721/721 [==============================] - 2s 3ms/step - loss: 2515.5783\n",
      "Epoch 42/50\n",
      "721/721 [==============================] - 2s 2ms/step - loss: 2436.0511\n",
      "Epoch 43/50\n",
      "721/721 [==============================] - 2s 2ms/step - loss: 2359.7344\n",
      "Epoch 44/50\n",
      "721/721 [==============================] - 2s 3ms/step - loss: 2287.4759\n",
      "Epoch 45/50\n",
      "721/721 [==============================] - 2s 3ms/step - loss: 2218.4865\n",
      "Epoch 46/50\n",
      "721/721 [==============================] - 3s 4ms/step - loss: 2151.0049\n",
      "Epoch 47/50\n",
      "721/721 [==============================] - 2s 3ms/step - loss: 2084.3795\n",
      "Epoch 48/50\n",
      "721/721 [==============================] - 2s 3ms/step - loss: 2020.5611\n",
      "Epoch 49/50\n",
      "721/721 [==============================] - 1s 2ms/step - loss: 1958.1357\n",
      "Epoch 50/50\n",
      "721/721 [==============================] - 2s 2ms/step - loss: 1898.9517\n"
     ]
    },
    {
     "data": {
      "text/plain": [
       "<keras.callbacks.History at 0x7fb900844198>"
      ]
     },
     "execution_count": 45,
     "metadata": {},
     "output_type": "execute_result"
    }
   ],
   "source": [
    "model = regression_model()\n",
    "epochs = 50\n",
    "model.fit(X_train, y_train, epochs=epochs, verbose=1)"
   ]
  },
  {
   "cell_type": "code",
   "execution_count": 51,
   "metadata": {},
   "outputs": [
    {
     "name": "stdout",
     "output_type": "stream",
     "text": [
      "309/309 [==============================] - 1s 2ms/step\n"
     ]
    },
    {
     "data": {
      "text/plain": [
       "1479.969851793209"
      ]
     },
     "execution_count": 51,
     "metadata": {},
     "output_type": "execute_result"
    }
   ],
   "source": [
    "loss_value = model.evaluate(X_test, y_test)\n",
    "y_pred = model.predict(X_test)\n",
    "loss_value"
   ]
  },
  {
   "cell_type": "code",
   "execution_count": 52,
   "metadata": {},
   "outputs": [
    {
     "name": "stdout",
     "output_type": "stream",
     "text": [
      "1479.9698684647951 0.0\n"
     ]
    }
   ],
   "source": [
    "from sklearn.metrics import mean_squared_error\n",
    "mean_sq_err = mean_squared_error(y_test, y_pred)\n",
    "mean = np.mean(mean_sq_err)\n",
    "standard_deviation = np.std(mean_sq_err)\n",
    "print(mean, standard_deviation)"
   ]
  },
  {
   "cell_type": "code",
   "execution_count": 53,
   "metadata": {},
   "outputs": [
    {
     "name": "stdout",
     "output_type": "stream",
     "text": [
      "MSE 1: 567.0567447205577\n",
      "MSE 2: 305.97284389853866\n",
      "MSE 3: 207.63573843452923\n",
      "MSE 4: 162.40976687928233\n",
      "MSE 5: 130.67171796780187\n",
      "MSE 6: 101.25598909939762\n",
      "MSE 7: 102.50279408674024\n",
      "MSE 8: 68.95404786045111\n",
      "MSE 9: 80.0890489102953\n",
      "MSE 10: 63.609665731781895\n",
      "MSE 11: 52.150144015315284\n",
      "MSE 12: 50.07811917301906\n",
      "MSE 13: 60.1673645587415\n",
      "MSE 14: 55.44586295217372\n",
      "MSE 15: 49.39810257204914\n",
      "MSE 16: 55.72331108167334\n",
      "MSE 17: 49.010658560447325\n",
      "MSE 18: 49.2259082485557\n",
      "MSE 19: 44.77378248936922\n",
      "MSE 20: 55.49525296109394\n",
      "MSE 21: 44.08217467767907\n",
      "MSE 22: 45.10895012420358\n",
      "MSE 23: 43.73273134694516\n",
      "MSE 24: 45.56192859785457\n",
      "MSE 25: 50.86314468630695\n",
      "MSE 26: 53.10260708509526\n",
      "MSE 27: 50.79011318367276\n",
      "MSE 28: 44.03797484215795\n",
      "MSE 29: 53.31089846910396\n",
      "MSE 30: 49.75329010849246\n",
      "MSE 31: 52.8080633712818\n",
      "MSE 32: 44.064693907703784\n",
      "MSE 33: 46.50945983195382\n",
      "MSE 34: 49.84424240457973\n",
      "MSE 35: 54.64465862879089\n",
      "MSE 36: 56.72052824150011\n",
      "MSE 37: 52.318305827267345\n",
      "MSE 38: 52.771224901514145\n",
      "MSE 39: 61.83306110715403\n",
      "MSE 40: 43.54567081488452\n",
      "MSE 41: 54.187335980362874\n",
      "MSE 42: 47.935347547808895\n",
      "MSE 43: 51.12775871745977\n",
      "MSE 44: 53.061223051694604\n",
      "MSE 45: 54.05513864659183\n",
      "MSE 46: 76.25976582252478\n",
      "MSE 47: 51.95468964314384\n",
      "MSE 48: 51.15213143555478\n",
      "MSE 49: 51.21236056725956\n",
      "MSE 50: 54.20984647189143\n",
      "\n",
      "\n",
      "Below is the mean and standard deviation of 50 mean squared errors without normalized data. Total number of epochs for each training is: 50\n",
      "\n",
      "Mean: 77.04372329759772\n",
      "Standard Deviation: 83.50006302069839\n"
     ]
    }
   ],
   "source": [
    "total_mean_squared_errors = 50\n",
    "epochs = 50\n",
    "mean_squared_errors = []\n",
    "for i in range(0, total_mean_squared_errors):\n",
    "    X_train, X_test, y_train, y_test = train_test_split(predictors, target, test_size=0.3, random_state=i)\n",
    "    model.fit(X_train, y_train, epochs=epochs, verbose=0)\n",
    "    MSE = model.evaluate(X_test, y_test, verbose=0)\n",
    "    print(\"MSE \"+str(i+1)+\": \"+str(MSE))\n",
    "    y_pred = model.predict(X_test)\n",
    "    mean_square_error = mean_squared_error(y_test, y_pred)\n",
    "    mean_squared_errors.append(mean_square_error)\n",
    "\n",
    "mean_squared_errors = np.array(mean_squared_errors)\n",
    "mean = np.mean(mean_squared_errors)\n",
    "standard_deviation = np.std(mean_squared_errors)\n",
    "\n",
    "print('\\n')\n",
    "print(\"Below is the mean and standard deviation of \" +str(total_mean_squared_errors) + \" mean squared errors without normalized data. Total number of epochs for each training is: \" +str(epochs) + \"\\n\")\n",
    "print(\"Mean: \"+str(mean))\n",
    "print(\"Standard Deviation: \"+str(standard_deviation))"
   ]
  }
 ],
 "metadata": {
  "kernelspec": {
   "display_name": "Python",
   "language": "python",
   "name": "conda-env-python-py"
  },
  "language_info": {
   "codemirror_mode": {
    "name": "ipython",
    "version": 3
   },
   "file_extension": ".py",
   "mimetype": "text/x-python",
   "name": "python",
   "nbconvert_exporter": "python",
   "pygments_lexer": "ipython3",
   "version": "3.6.12"
  }
 },
 "nbformat": 4,
 "nbformat_minor": 4
}
